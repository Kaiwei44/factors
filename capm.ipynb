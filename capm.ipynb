{
 "cells": [
  {
   "cell_type": "code",
   "execution_count": null,
   "id": "initial_id",
   "metadata": {
    "collapsed": true
   },
   "outputs": [],
   "source": [
    "import firefin\n",
    "import numpy as np\n",
    "import statsmodels.api as sm"
   ]
  },
  {
   "metadata": {},
   "cell_type": "code",
   "outputs": [],
   "execution_count": null,
   "source": [
    "#get data\n",
    "data = firefin.fetch_data([\"return\", \"index\"])\n",
    "excess_ret=data[\"return\"]\n",
    "market_excess=data[\"index\"]\n",
    "T,N=excess_ret.shape"
   ],
   "id": "2318e12e6221876e"
  },
  {
   "metadata": {},
   "cell_type": "code",
   "outputs": [],
   "execution_count": null,
   "source": [
    "#CAPM time series regression\n",
    "alphas = np.zeros((N, 1))\n",
    "betas = np.zeros((N, 1))\n",
    "resid = np.zeros((T, N))\n",
    "for i in range(N):\n",
    "    y = excess_ret[:, i]\n",
    "    X = sm.add_constant(market_excess)\n",
    "    res = sm.OLS(y, X).fit()\n",
    "    alphas[i, 0] = res.params[0]\n",
    "    betas[i, 0] = res.params[1]\n",
    "    resid[:, i] = res.resid"
   ],
   "id": "ebd00012a71b01a2"
  }
 ],
 "metadata": {
  "kernelspec": {
   "display_name": "Python 3",
   "language": "python",
   "name": "python3"
  },
  "language_info": {
   "codemirror_mode": {
    "name": "ipython",
    "version": 2
   },
   "file_extension": ".py",
   "mimetype": "text/x-python",
   "name": "python",
   "nbconvert_exporter": "python",
   "pygments_lexer": "ipython2",
   "version": "2.7.6"
  }
 },
 "nbformat": 4,
 "nbformat_minor": 5
}
